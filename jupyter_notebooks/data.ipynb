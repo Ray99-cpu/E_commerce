{
 "cells": [
  {
   "cell_type": "code",
   "execution_count": 1,
   "id": "c296b169",
   "metadata": {},
   "outputs": [],
   "source": [
    "import pandas as pd\n",
    "import numpy as np\n",
    "import seaborn as sns\n",
    "import matplotlib.pyplot as plt\n",
    "from sklearn.model_selection import train_test_split\n",
    "from scipy.stats import norm\n",
    "from scipy.stats import ttest_ind\n",
    "import plotly.express as px"
   ]
  },
  {
   "cell_type": "markdown",
   "id": "2a567e05",
   "metadata": {},
   "source": [
    "### The above shows that  necessary libraries have been imported."
   ]
  },
  {
   "cell_type": "markdown",
   "id": "7dc1c2d5",
   "metadata": {},
   "source": []
  },
  {
   "cell_type": "code",
   "execution_count": 2,
   "id": "930f879b",
   "metadata": {},
   "outputs": [
    {
     "name": "stdout",
     "output_type": "stream",
     "text": [
      "    User_ID  Product_ID  Category  Price (Rs.)  Discount (%)  \\\n",
      "0  337c166f  f414122f-e    Sports        36.53            15   \n",
      "1  d38a19bf  fde50f9c-5  Clothing       232.79            20   \n",
      "2  d7f5f0b0  0d96fc90-3    Sports       317.02            25   \n",
      "3  395d4994  964fc44b-d      Toys       173.19            25   \n",
      "4  a83c145c  d70e2fc6-e    Beauty       244.80            20   \n",
      "\n",
      "   Final_Price(Rs.) Payment_Method Purchase_Date  \n",
      "0             31.05    Net Banking    12-11-2024  \n",
      "1            186.23    Net Banking    09-02-2024  \n",
      "2            237.76    Credit Card    01-09-2024  \n",
      "3            129.89            UPI    01-04-2024  \n",
      "4            195.84    Net Banking    27-09-2024  \n"
     ]
    }
   ],
   "source": [
    "import os\n",
    "os.chdir(\"C:/Users/rayaf/E_commerce\")\n",
    "\n",
    "import pandas as pd\n",
    "df = pd.read_csv(\"Data/raw_data/ecommerce_dataset_updated.csv\")\n",
    "print(df.head())\n"
   ]
  },
  {
   "cell_type": "markdown",
   "id": "f5a971cb",
   "metadata": {},
   "source": [
    "### The above shows that the data has been loaded and the various column headings for the data."
   ]
  },
  {
   "cell_type": "code",
   "execution_count": 3,
   "id": "e6c6cf5e",
   "metadata": {},
   "outputs": [
    {
     "name": "stdout",
     "output_type": "stream",
     "text": [
      "C:\\Users\\rayaf\\E_commerce\n"
     ]
    }
   ],
   "source": [
    "print(os.getcwd())"
   ]
  },
  {
   "cell_type": "markdown",
   "id": "64cc9931",
   "metadata": {},
   "source": [
    "### 1.1 The mean is the average value within the various dataset numeric columns. The median is the middle value, and the standard deviation is concerned with the amount of spread from the mean value. Hypothesis testing is a method in statistics for making inferences about populations using sample data. They are the foundation of data analysis because they provide a clear insight into the dataset. This will reflect trends and patterns with which the data analyst can draw insights and conclusions."
   ]
  },
  {
   "cell_type": "markdown",
   "id": "d25a0249",
   "metadata": {},
   "source": [
    "### 1.2 The code below shows both the mean  and variance values within the dataset"
   ]
  },
  {
   "cell_type": "code",
   "execution_count": 4,
   "id": "1f067044",
   "metadata": {},
   "outputs": [
    {
     "name": "stdout",
     "output_type": "stream",
     "text": [
      "Mean values:\n",
      "Price (Rs.)         254.800675\n",
      "Discount (%)         18.825137\n",
      "Final_Price(Rs.)    206.906579\n",
      "dtype: float64\n",
      "\n",
      "Variance values:\n",
      "Price (Rs.)         20073.965184\n",
      "Discount (%)          217.012322\n",
      "Final_Price(Rs.)    15052.307049\n",
      "dtype: float64\n"
     ]
    }
   ],
   "source": [
    "# Mean\n",
    "print(\"Mean values:\")\n",
    "print(df[['Price (Rs.)', 'Discount (%)', 'Final_Price(Rs.)']].mean())\n",
    "\n",
    "# Variance\n",
    "print(\"\\nVariance values:\")\n",
    "print(df[['Price (Rs.)', 'Discount (%)', 'Final_Price(Rs.)']].var())\n"
   ]
  },
  {
   "cell_type": "markdown",
   "id": "613a6c63",
   "metadata": {},
   "source": [
    "### 1.2 The values below represent a t-test."
   ]
  },
  {
   "cell_type": "code",
   "execution_count": 5,
   "id": "ac675d0a",
   "metadata": {},
   "outputs": [
    {
     "name": "stdout",
     "output_type": "stream",
     "text": [
      "T-statistic: 2.1697391882607717\n",
      "P-value: 0.03024693781257557\n"
     ]
    }
   ],
   "source": [
    "# Filter the data\n",
    "clothing_prices = df[df['Category'] == 'Clothing']['Final_Price(Rs.)']\n",
    "home_kitchen_prices = df[df['Category'] == 'Home & Kitchen']['Final_Price(Rs.)']\n",
    "\n",
    "# Run the t-test\n",
    "t_stat, p_val = ttest_ind(clothing_prices, home_kitchen_prices, equal_var=False)  # Welch's t-test\n",
    "\n",
    "# Output results\n",
    "print(\"T-statistic:\", t_stat)\n",
    "print(\"P-value:\", p_val)"
   ]
  },
  {
   "cell_type": "markdown",
   "id": "5f764c71",
   "metadata": {},
   "source": [
    "### 1.2 There is a meaningful difference between the two categories as the p-value is less than 0.05. This can be seen in the boxplot below."
   ]
  },
  {
   "cell_type": "code",
   "execution_count": 6,
   "id": "cc914017",
   "metadata": {},
   "outputs": [
    {
     "data": {
      "image/png": "[encoded data removed]",
      "text/plain": [
       "<Figure size 640x480 with 1 Axes>"
      ]
     },
     "metadata": {},
     "output_type": "display_data"
    }
   ],
   "source": [
    "sns.boxplot(data=df[df['Category'].isin(['Clothing', 'Home & Kitchen'])],\n",
    "            x='Category', y='Final_Price(Rs.)')\n",
    "plt.title('Final Price Comparison: Clothing vs Home & Kitchen')\n",
    "plt.ylabel('Final Price (Rs.)')\n",
    "plt.show()"
   ]
  },
  {
   "cell_type": "markdown",
   "id": "953d40c7",
   "metadata": {},
   "source": [
    "### 2.1 The file has been saved to the cleaned data folder."
   ]
  },
  {
   "cell_type": "code",
   "execution_count": 7,
   "id": "4cc427ca",
   "metadata": {},
   "outputs": [
    {
     "name": "stdout",
     "output_type": "stream",
     "text": [
      "Cleaned data saved successfully!\n"
     ]
    }
   ],
   "source": [
    "import os\n",
    "\n",
    "os.makedirs(\"Data/cleaned_data\", exist_ok=True)\n",
    "df.to_csv(\"Data/cleaned_data/ecommerce_dataset_cleaned.csv\", index=False)\n",
    "print(\"Cleaned data saved successfully!\")"
   ]
  },
  {
   "cell_type": "markdown",
   "id": "151c2628",
   "metadata": {},
   "source": [
    "### 2.1 There are no null values within this data."
   ]
  },
  {
   "cell_type": "code",
   "execution_count": 8,
   "id": "a283fc10",
   "metadata": {},
   "outputs": [
    {
     "name": "stdout",
     "output_type": "stream",
     "text": [
      "User_ID             0\n",
      "Product_ID          0\n",
      "Category            0\n",
      "Price (Rs.)         0\n",
      "Discount (%)        0\n",
      "Final_Price(Rs.)    0\n",
      "Payment_Method      0\n",
      "Purchase_Date       0\n",
      "dtype: int64\n"
     ]
    }
   ],
   "source": [
    "print(df.isnull().sum())"
   ]
  },
  {
   "cell_type": "markdown",
   "id": "9cea039b",
   "metadata": {},
   "source": [
    "### 2.1 There are no null values within this data."
   ]
  },
  {
   "cell_type": "code",
   "execution_count": 9,
   "id": "460011c7",
   "metadata": {},
   "outputs": [
    {
     "data": {
      "text/plain": [
       "False"
      ]
     },
     "execution_count": 9,
     "metadata": {},
     "output_type": "execute_result"
    }
   ],
   "source": [
    "df.isnull().values.any()"
   ]
  },
  {
   "cell_type": "markdown",
   "id": "02111842",
   "metadata": {},
   "source": [
    "### 2.1 I have checked to see if there are no missing values as can be seen from the code above.There are no missing values."
   ]
  },
  {
   "cell_type": "markdown",
   "id": "1e3cfad1",
   "metadata": {},
   "source": [
    "### The date format has been changed from text based to numeric."
   ]
  },
  {
   "cell_type": "code",
   "execution_count": 10,
   "id": "0527732b",
   "metadata": {},
   "outputs": [],
   "source": [
    "df['Purchase_Date'] = pd.to_datetime(df['Purchase_Date'], format='mixed', dayfirst=True, errors='coerce')\n"
   ]
  },
  {
   "cell_type": "markdown",
   "id": "ea42d9e9",
   "metadata": {},
   "source": [
    "### The code below shows that the conversion was successful for all entries."
   ]
  },
  {
   "cell_type": "code",
   "execution_count": 11,
   "id": "869d899c",
   "metadata": {},
   "outputs": [
    {
     "data": {
      "text/html": [
       "<div>\n",
       "<style scoped>\n",
       "    .dataframe tbody tr th:only-of-type {\n",
       "        vertical-align: middle;\n",
       "    }\n",
       "\n",
       "    .dataframe tbody tr th {\n",
       "        vertical-align: top;\n",
       "    }\n",
       "\n",
       "    .dataframe thead th {\n",
       "        text-align: right;\n",
       "    }\n",
       "</style>\n",
       "<table border=\"1\" class=\"dataframe\">\n",
       "  <thead>\n",
       "    <tr style=\"text-align: right;\">\n",
       "      <th></th>\n",
       "      <th>User_ID</th>\n",
       "      <th>Product_ID</th>\n",
       "      <th>Category</th>\n",
       "      <th>Price (Rs.)</th>\n",
       "      <th>Discount (%)</th>\n",
       "      <th>Final_Price(Rs.)</th>\n",
       "      <th>Payment_Method</th>\n",
       "      <th>Purchase_Date</th>\n",
       "    </tr>\n",
       "  </thead>\n",
       "  <tbody>\n",
       "  </tbody>\n",
       "</table>\n",
       "</div>"
      ],
      "text/plain": [
       "Empty DataFrame\n",
       "Columns: [User_ID, Product_ID, Category, Price (Rs.), Discount (%), Final_Price(Rs.), Payment_Method, Purchase_Date]\n",
       "Index: []"
      ]
     },
     "execution_count": 11,
     "metadata": {},
     "output_type": "execute_result"
    }
   ],
   "source": [
    "df[df['Purchase_Date'].isna()]"
   ]
  },
  {
   "cell_type": "markdown",
   "id": "8f3ec307",
   "metadata": {},
   "source": [
    "### The code below shows that new columns have been added to aid better analysis of customer behaviour."
   ]
  },
  {
   "cell_type": "code",
   "execution_count": 12,
   "id": "7667f4ec",
   "metadata": {},
   "outputs": [],
   "source": [
    "# Extract date parts for later use\n",
    "df['Month'] = df['Purchase_Date'].dt.month_name()\n",
    "df['Weekday'] = df['Purchase_Date'].dt.day_name()\n",
    "df['Year'] = df['Purchase_Date'].dt.year\n"
   ]
  },
  {
   "cell_type": "markdown",
   "id": "27e42117",
   "metadata": {},
   "source": [
    "### The code below prints out the column headings and the new time period columns."
   ]
  },
  {
   "cell_type": "code",
   "execution_count": 13,
   "id": "7a8bed45",
   "metadata": {},
   "outputs": [
    {
     "name": "stdout",
     "output_type": "stream",
     "text": [
      "    User_ID  Product_ID  Category  Price (Rs.)  Discount (%)  \\\n",
      "0  337c166f  f414122f-e    Sports        36.53            15   \n",
      "1  d38a19bf  fde50f9c-5  Clothing       232.79            20   \n",
      "2  d7f5f0b0  0d96fc90-3    Sports       317.02            25   \n",
      "3  395d4994  964fc44b-d      Toys       173.19            25   \n",
      "4  a83c145c  d70e2fc6-e    Beauty       244.80            20   \n",
      "\n",
      "   Final_Price(Rs.) Payment_Method Purchase_Date      Month  Weekday  Year  \n",
      "0             31.05    Net Banking    2024-11-12   November  Tuesday  2024  \n",
      "1            186.23    Net Banking    2024-02-09   February   Friday  2024  \n",
      "2            237.76    Credit Card    2024-09-01  September   Sunday  2024  \n",
      "3            129.89            UPI    2024-04-01      April   Monday  2024  \n",
      "4            195.84    Net Banking    2024-09-27  September   Friday  2024  \n"
     ]
    }
   ],
   "source": [
    "print(df.head())"
   ]
  },
  {
   "cell_type": "code",
   "execution_count": 15,
   "id": "80b2b856",
   "metadata": {},
   "outputs": [
    {
     "name": "stderr",
     "output_type": "stream",
     "text": [
      "C:\\Users\\rayaf\\AppData\\Local\\Temp\\ipykernel_10128\\4131431461.py:12: FutureWarning: \n",
      "\n",
      "Passing `palette` without assigning `hue` is deprecated and will be removed in v0.14.0. Assign the `x` variable to `hue` and set `legend=False` for the same effect.\n",
      "\n",
      "  bar = sns.barplot(\n"
     ]
    },
    {
     "data": {
      "image/png": "[encoded data removed]",
      "text/plain": [
       "<Figure size 1000x600 with 1 Axes>"
      ]
     },
     "metadata": {},
     "output_type": "display_data"
    }
   ],
   "source": [
    "\n",
    "\n",
    "\n",
    "best_customer = df.groupby('User_ID')['Payment_Method'].count()\n",
    "\n",
    "\n",
    "top_customers = best_customer.sort_values(ascending=False).head(10).reset_index()\n",
    "top_customers.rename(columns={'Payment_Method': 'Payment_Count'}, inplace=True)\n",
    "\n",
    "\n",
    "sns.set(style=\"whitegrid\")\n",
    "\n",
    "\n",
    "plt.figure(figsize=(10, 6))\n",
    "bar = sns.barplot(\n",
    "    data=top_customers,\n",
    "    x='User_ID',\n",
    "    y='Payment_Count',\n",
    "    palette='Blues_d'\n",
    ")\n",
    "\n",
    "\n",
    "for index, row in top_customers.iterrows():\n",
    "    bar.text(index, row.Payment_Count + 0.2, row.Payment_Count, color='black', ha=\"center\")\n",
    "\n",
    "\n",
    "plt.title('Top 10 Customers by Payment Count')\n",
    "plt.xlabel('User ID')\n",
    "plt.ylabel('Number of Payments')\n",
    "plt.xticks(rotation=45)\n",
    "plt.tight_layout()\n",
    "plt.show()\n"
   ]
  }
 ],
 "metadata": {
  "kernelspec": {
   "display_name": ".venv",
   "language": "python",
   "name": "python3"
  },
  "language_info": {
   "codemirror_mode": {
    "name": "ipython",
    "version": 3
   },
   "file_extension": ".py",
   "mimetype": "text/x-python",
   "name": "python",
   "nbconvert_exporter": "python",
   "pygments_lexer": "ipython3",
   "version": "3.12.8"
  }
 },
 "nbformat": 4,
 "nbformat_minor": 5
}
