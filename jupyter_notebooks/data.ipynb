{
 "cells": [
  {
   "cell_type": "code",
   "execution_count": 12,
   "id": "c296b169",
   "metadata": {},
   "outputs": [],
   "source": [
    "import pandas as pd\n",
    "import numpy as np\n",
    "import seaborn as sns\n",
    "import matplotlib.pyplot as plt\n",
    "from sklearn.model_selection import train_test_split\n",
    "from scipy.stats import norm\n",
    "from scipy.stats import ttest_ind"
   ]
  },
  {
   "cell_type": "markdown",
   "id": "2a567e05",
   "metadata": {},
   "source": [
    "### The above shows that  necessary librairies have been imported."
   ]
  },
  {
   "cell_type": "markdown",
   "id": "7dc1c2d5",
   "metadata": {},
   "source": []
  },
  {
   "cell_type": "code",
   "execution_count": 13,
   "id": "930f879b",
   "metadata": {},
   "outputs": [
    {
     "name": "stdout",
     "output_type": "stream",
     "text": [
      "    User_ID  Product_ID  Category  Price (Rs.)  Discount (%)  \\\n",
      "0  337c166f  f414122f-e    Sports        36.53            15   \n",
      "1  d38a19bf  fde50f9c-5  Clothing       232.79            20   \n",
      "2  d7f5f0b0  0d96fc90-3    Sports       317.02            25   \n",
      "3  395d4994  964fc44b-d      Toys       173.19            25   \n",
      "4  a83c145c  d70e2fc6-e    Beauty       244.80            20   \n",
      "\n",
      "   Final_Price(Rs.) Payment_Method Purchase_Date  \n",
      "0             31.05    Net Banking    12-11-2024  \n",
      "1            186.23    Net Banking    09-02-2024  \n",
      "2            237.76    Credit Card    01-09-2024  \n",
      "3            129.89            UPI    01-04-2024  \n",
      "4            195.84    Net Banking    27-09-2024  \n"
     ]
    }
   ],
   "source": [
    "import os\n",
    "os.chdir(\"C:/Users/rayaf/E_commerce\")\n",
    "\n",
    "import pandas as pd\n",
    "df = pd.read_csv(\"Data/raw_data/ecommerce_dataset_updated.csv\")\n",
    "print(df.head())\n"
   ]
  },
  {
   "cell_type": "markdown",
   "id": "f5a971cb",
   "metadata": {},
   "source": [
    "### The above shows that the data has been loaded and the various column headings for the data."
   ]
  },
  {
   "cell_type": "code",
   "execution_count": 14,
   "id": "e6c6cf5e",
   "metadata": {},
   "outputs": [
    {
     "name": "stdout",
     "output_type": "stream",
     "text": [
      "C:\\Users\\rayaf\\E_commerce\n"
     ]
    }
   ],
   "source": [
    "print(os.getcwd())"
   ]
  },
  {
   "cell_type": "code",
   "execution_count": 15,
   "id": "61245d82",
   "metadata": {},
   "outputs": [
    {
     "name": "stdout",
     "output_type": "stream",
     "text": [
      "Cleaned data saved successfully!\n"
     ]
    }
   ],
   "source": [
    "\n",
    "import os\n",
    "\n",
    "os.makedirs(\"Data/cleaned_data\", exist_ok=True)\n",
    "df.to_csv(\"Data/cleaned_data/ecommerce_dataset_cleaned.csv\", index=False)\n",
    "print(\"Cleaned data saved successfully!\")\n",
    "\n"
   ]
  },
  {
   "cell_type": "markdown",
   "id": "801be26c",
   "metadata": {},
   "source": [
    "### The file has been saved to the cleaned data folder."
   ]
  },
  {
   "cell_type": "code",
   "execution_count": 16,
   "id": "b868ea99",
   "metadata": {},
   "outputs": [
    {
     "name": "stdout",
     "output_type": "stream",
     "text": [
      "User_ID             0\n",
      "Product_ID          0\n",
      "Category            0\n",
      "Price (Rs.)         0\n",
      "Discount (%)        0\n",
      "Final_Price(Rs.)    0\n",
      "Payment_Method      0\n",
      "Purchase_Date       0\n",
      "dtype: int64\n"
     ]
    }
   ],
   "source": [
    "print(df.isnull().sum())"
   ]
  },
  {
   "cell_type": "markdown",
   "id": "8843d2a5",
   "metadata": {},
   "source": [
    "### There are no null values within this data."
   ]
  },
  {
   "cell_type": "code",
   "execution_count": 17,
   "id": "37b3c0fe",
   "metadata": {},
   "outputs": [
    {
     "data": {
      "text/plain": [
       "False"
      ]
     },
     "execution_count": 17,
     "metadata": {},
     "output_type": "execute_result"
    }
   ],
   "source": [
    "df.isnull().values.any()\n"
   ]
  },
  {
   "cell_type": "markdown",
   "id": "d4d7ade7",
   "metadata": {},
   "source": [
    "### I have checked to see if there are no missing values as can be seen from the code above.There are no missing values."
   ]
  },
  {
   "cell_type": "markdown",
   "id": "64cc9931",
   "metadata": {},
   "source": [
    "### 1.1 The mean is the average value within the various dataset numeric columns. The median is the middle value, and the standard deviation is concerned with the amount of spread from the mean value. Hypothesis testing is a method in statistics for making inferences about populations using sample data. They are the foundation of data analysis because they provide a clear insight into the dataset. This will reflect trends and patterns with which the data analyst can draw insights and conclusions."
   ]
  },
  {
   "cell_type": "code",
   "execution_count": 18,
   "id": "1f067044",
   "metadata": {},
   "outputs": [
    {
     "name": "stdout",
     "output_type": "stream",
     "text": [
      "Mean values:\n",
      "Price (Rs.)         254.800675\n",
      "Discount (%)         18.825137\n",
      "Final_Price(Rs.)    206.906579\n",
      "dtype: float64\n",
      "\n",
      "Variance values:\n",
      "Price (Rs.)         20073.965184\n",
      "Discount (%)          217.012322\n",
      "Final_Price(Rs.)    15052.307049\n",
      "dtype: float64\n"
     ]
    }
   ],
   "source": [
    "# Mean\n",
    "print(\"Mean values:\")\n",
    "print(df[['Price (Rs.)', 'Discount (%)', 'Final_Price(Rs.)']].mean())\n",
    "\n",
    "# Variance\n",
    "print(\"\\nVariance values:\")\n",
    "print(df[['Price (Rs.)', 'Discount (%)', 'Final_Price(Rs.)']].var())\n"
   ]
  },
  {
   "cell_type": "markdown",
   "id": "613a6c63",
   "metadata": {},
   "source": [
    "### The values above represent the mean and variance values"
   ]
  },
  {
   "cell_type": "code",
   "execution_count": 19,
   "id": "ac675d0a",
   "metadata": {},
   "outputs": [
    {
     "name": "stdout",
     "output_type": "stream",
     "text": [
      "T-statistic: 2.1697391882607717\n",
      "P-value: 0.03024693781257557\n"
     ]
    }
   ],
   "source": [
    "# Filter the data\n",
    "clothing_prices = df[df['Category'] == 'Clothing']['Final_Price(Rs.)']\n",
    "home_kitchen_prices = df[df['Category'] == 'Home & Kitchen']['Final_Price(Rs.)']\n",
    "\n",
    "# Run the t-test\n",
    "t_stat, p_val = ttest_ind(clothing_prices, home_kitchen_prices, equal_var=False)  # Welch's t-test\n",
    "\n",
    "# Output results\n",
    "print(\"T-statistic:\", t_stat)\n",
    "print(\"P-value:\", p_val)"
   ]
  },
  {
   "cell_type": "markdown",
   "id": "5f764c71",
   "metadata": {},
   "source": [
    "### There is a meaningful difference between the two categories as the p-value is less than 0.05"
   ]
  },
  {
   "cell_type": "code",
   "execution_count": 20,
   "id": "cc914017",
   "metadata": {},
   "outputs": [
    {
     "data": {
      "image/png": "[encoded data removed]",
      "text/plain": [
       "<Figure size 640x480 with 1 Axes>"
      ]
     },
     "metadata": {},
     "output_type": "display_data"
    }
   ],
   "source": [
    "sns.boxplot(data=df[df['Category'].isin(['Clothing', 'Home & Kitchen'])],\n",
    "            x='Category', y='Final_Price(Rs.)')\n",
    "plt.title('Final Price Comparison: Clothing vs Home & Kitchen')\n",
    "plt.ylabel('Final Price (Rs.)')\n",
    "plt.show()"
   ]
  }
 ],
 "metadata": {
  "kernelspec": {
   "display_name": ".venv",
   "language": "python",
   "name": "python3"
  },
  "language_info": {
   "codemirror_mode": {
    "name": "ipython",
    "version": 3
   },
   "file_extension": ".py",
   "mimetype": "text/x-python",
   "name": "python",
   "nbconvert_exporter": "python",
   "pygments_lexer": "ipython3",
   "version": "3.12.8"
  }
 },
 "nbformat": 4,
 "nbformat_minor": 5
}
